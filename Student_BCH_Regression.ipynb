{
  "nbformat": 4,
  "nbformat_minor": 0,
  "metadata": {
    "colab": {
      "name": "Student_BCH_Regression.ipynb",
      "version": "0.3.2",
      "provenance": [],
      "collapsed_sections": [],
      "include_colab_link": true
    },
    "kernelspec": {
      "name": "python3",
      "display_name": "Python 3"
    }
  },
  "cells": [
    {
      "cell_type": "markdown",
      "metadata": {
        "id": "view-in-github",
        "colab_type": "text"
      },
      "source": [
        "<a href=\"https://colab.research.google.com/github/chrisjoly/Python_bootcamp/blob/master/Student_BCH_Regression.ipynb\" target=\"_parent\"><img src=\"https://colab.research.google.com/assets/colab-badge.svg\" alt=\"Open In Colab\"/></a>"
      ]
    },
    {
      "metadata": {
        "id": "WEo-R4F07tse",
        "colab_type": "text"
      },
      "cell_type": "markdown",
      "source": [
        "# BCH Tutorial - Linear Regression\n",
        "For this tutorial we'll be using the diabetes dataset from sklearn. \n",
        "\n",
        "In this notebook we will:\n",
        "1. Import required modules and dataset\n",
        "2. Define a Linear Regression model\n",
        "3. Fit the data to our model\n",
        "4. Use our trained model to predict a continuous value\n",
        "5. Evaluate our model \n",
        "\n"
      ]
    },
    {
      "metadata": {
        "id": "BmIIH8mI7JLC",
        "colab_type": "code",
        "colab": {}
      },
      "cell_type": "code",
      "source": [
        "from sklearn import datasets\n",
        "from sklearn.linear_model import LinearRegression\n",
        "from sklearn.metrics import mean_squared_error, r2_score\n",
        "import numpy as np\n",
        "import pandas as pd\n",
        "import matplotlib.pyplot as plt\n",
        "from IPython.display import display"
      ],
      "execution_count": 0,
      "outputs": []
    },
    {
      "metadata": {
        "id": "Pd9k_O4a7bxF",
        "colab_type": "text"
      },
      "cell_type": "markdown",
      "source": [
        "<h1>Example: Making a script to apply Linear Regression to all features </h1>"
      ]
    },
    {
      "metadata": {
        "id": "mS-MocBT6Dzh",
        "colab_type": "code",
        "colab": {}
      },
      "cell_type": "code",
      "source": [
        ""
      ],
      "execution_count": 0,
      "outputs": []
    }
  ]
}